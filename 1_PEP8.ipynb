{
 "cells": [
  {
   "cell_type": "markdown",
   "metadata": {
    "slideshow": {
     "slide_type": "slide"
    }
   },
   "source": [
    "# Введение в Python"
   ]
  },
  {
   "cell_type": "markdown",
   "metadata": {
    "slideshow": {
     "slide_type": "slide"
    }
   },
   "source": [
    "# Особенности языка Python\n",
    "* Python - интерпретируемый язык программирования;\n",
    "* динамическая типизация;\n",
    "* хорошая поддержка модульности;\n",
    "* встроенная поддержка Unicode в строках;\n",
    "* ООП;\n",
    "* автоматическая сборка мусора, отсутствие утечек памяти;\n",
    "* понятный и лаконичный синтаксис;\n",
    "* огромное количество модулей;\n",
    "* кроссплатформенность."
   ]
  },
  {
   "cell_type": "markdown",
   "metadata": {
    "slideshow": {
     "slide_type": "subslide"
    }
   },
   "source": [
    "## Плюсы Python\n",
    "\n",
    "* Идеален для старта в программировании\n",
    "* Простой\n",
    "* Множество доступных сред разработки\n",
    "* Универсальный\n",
    "* Быстрорастущий\n",
    "* Востребованный на рынке"
   ]
  },
  {
   "cell_type": "markdown",
   "metadata": {
    "slideshow": {
     "slide_type": "subslide"
    }
   },
   "source": [
    "## Минусы Python\n",
    "* Python не самый быстрый среди языков программирования. Скорость выполнения программ может быть ниже.\n",
    "* Не самый удобный язык для мобильных разработок\n",
    "* Из-за гибкости типов данных потребление памяти Python не минимальное"
   ]
  },
  {
   "cell_type": "code",
   "execution_count": null,
   "metadata": {},
   "outputs": [],
   "source": []
  },
  {
   "cell_type": "markdown",
   "metadata": {},
   "source": [
    "<img src=\"images/LessonsI/PVM.jpg\" alt=\"PVM\" height=40% width=40%>\n",
    "**PVM — Виртуальная машина Python (интерпретатор)**"
   ]
  },
  {
   "cell_type": "markdown",
   "metadata": {
    "slideshow": {
     "slide_type": "slide"
    }
   },
   "source": [
    "# Основные операции"
   ]
  },
  {
   "cell_type": "code",
   "execution_count": 1,
   "metadata": {
    "slideshow": {
     "slide_type": "-"
    }
   },
   "outputs": [
    {
     "name": "stdout",
     "output_type": "stream",
     "text": [
      "Hello world!\n",
      "Hello world!\n"
     ]
    }
   ],
   "source": [
    "print('Hello world!')\n",
    "print(\"Hello world!\")"
   ]
  },
  {
   "cell_type": "code",
   "execution_count": 2,
   "metadata": {
    "slideshow": {
     "slide_type": "-"
    }
   },
   "outputs": [
    {
     "name": "stdout",
     "output_type": "stream",
     "text": [
      "3\n",
      "14 49\n"
     ]
    }
   ],
   "source": [
    "print(1 + 2)\n",
    "\n",
    "a = 3 + 4\n",
    "b = a * 2\n",
    "c = a ** 2 # возведение в квадрат\n",
    "print(b, c)"
   ]
  },
  {
   "cell_type": "code",
   "execution_count": 3,
   "metadata": {},
   "outputs": [
    {
     "name": "stdout",
     "output_type": "stream",
     "text": [
      "11\n",
      "d = 11\n"
     ]
    }
   ],
   "source": [
    "d = input()\n",
    "print('d =', d) # d - строка"
   ]
  },
  {
   "cell_type": "markdown",
   "metadata": {
    "slideshow": {
     "slide_type": "subslide"
    }
   },
   "source": [
    "#### Динамическая типизация"
   ]
  },
  {
   "cell_type": "code",
   "execution_count": 3,
   "metadata": {},
   "outputs": [
    {
     "name": "stdout",
     "output_type": "stream",
     "text": [
      "<class 'int'>\n",
      "<class 'float'>\n",
      "<class 'str'>\n",
      "<class 'list'>\n"
     ]
    }
   ],
   "source": [
    "a = 1\n",
    "print(type(a))\n",
    "a = 1.2\n",
    "print(type(a))\n",
    "a = 'Str'\n",
    "print(type(a))\n",
    "a = [1, 1.2, 'Str']\n",
    "print(type(a))"
   ]
  },
  {
   "cell_type": "markdown",
   "metadata": {
    "slideshow": {
     "slide_type": "slide"
    }
   },
   "source": [
    "# Синтаксис\n",
    "* Блоки кода (циклы, условные операторы, функции, ...) выделяются отступом на 2 или 4 пробела или один знак табуляции\n",
    "* Каждая операция с новой строки\n",
    "* Для выполнения нескольких операций в одной строке используется \";\"\n",
    "```python\n",
    "a = 2 + 3; b = 3 * 4\n",
    "```\n",
    "* Комментарии начинаются с # или заключаются в тройные ковычки '''Комментарий'''\n",
    "* Возможно переносить продолжение инструкции на следующую строку\n",
    "* Возможно выполнять несколько операций одновнеменно\n",
    "```python\n",
    "a, b = 2 + 3, 3 * 4\n",
    "a, b = b, a\n",
    "```\n",
    "* При записи нескольких инструкций в одной строке используются скобки\n",
    "```python\n",
    "if (a == 12 and b == 5 or\n",
    "    c == 16):  # В конце инструкции двоеточие\n",
    "      print('Условие выполнено')\n",
    "```"
   ]
  },
  {
   "cell_type": "markdown",
   "metadata": {
    "slideshow": {
     "slide_type": "slide"
    }
   },
   "source": [
    "# PEP8\n",
    "* Используйте 4 пробела на один уровень отступа\n",
    "* Никогда не смешивайте символы табуляции и пробелы\n",
    "* Ограничьте максимальную длину строки 79 символами\n",
    "* Пустые строки:\n",
    " * Отделяйте функции (верхнего уровня, не функции внутри функций) и определения классов двумя пустыми строчками\n",
    " * Определения методов внутри класса отделяйте одной пустой строкой\n",
    " * Дополнительные отступы строками могут быть изредка использованы для выделения группы логически связанных функций\n",
    "* Импортирование разных модулей должно быть на разных строчках\n",
    "\n"
   ]
  },
  {
   "cell_type": "markdown",
   "metadata": {
    "slideshow": {
     "slide_type": "subslide"
    }
   },
   "source": [
    "\n",
    "* Комментарии, которые противоречат коду, хуже, чем отсутствие комментариев. Всегда исправляйте комментарии, если меняете код!\n",
    "* Старайтесь реже использовать комментарии в строке с кодом\n",
    "\n",
    "\n",
    "* Имена:\n",
    " * Никогда не используйте символы l (малелькая латинская буква «эль»), O (заглавная латинская буква «о») или I (заглавная латинская буква «ай») как однобуквенные идентификаторы\n",
    " * Все имена классов должны следовать соглашению CapWords почти без исключений\n",
    " * Имена функций должны состоять из маленьких букв, а слова разделяться символами подчеркивания — это необходимо, чтобы увеличить читабельность\n",
    "\n",
    "и [другие правила](https://pythonworld.ru/osnovy/pep-8-rukovodstvo-po-napisaniyu-koda-na-python.html)"
   ]
  },
  {
   "cell_type": "markdown",
   "metadata": {},
   "source": [
    "<img src=\"images/LessonsI/Py_Pa_C.png\" alt=\"comparison\" height=40% width=40%>"
   ]
  },
  {
   "cell_type": "markdown",
   "metadata": {
    "slideshow": {
     "slide_type": "slide"
    }
   },
   "source": [
    "# Условный оператор\n",
    "Условный оператор имеет следующий синтаксис:\n",
    "```python\n",
    "if a == 13:\n",
    "    print('Выполнено условие 1')\n",
    "elif (a == 12 and 0 <= b <= 20):\n",
    "    print('Выполнено условие 2')\n",
    "else:\n",
    "    print('Ни одно из условий не выполнено')\n",
    "```\n",
    "#### Ложные объекты\n",
    "* Пустые объекты: списки, множества, строки, ...\n",
    "* Число 0\n",
    "* Значение None\n"
   ]
  },
  {
   "cell_type": "markdown",
   "metadata": {
    "slideshow": {
     "slide_type": "subslide"
    }
   },
   "source": [
    "#### Логические операторы:\n",
    "```python\n",
    "a and b\n",
    "a or b\n",
    "not a\n",
    "```\n",
    "#### Трехместное выражение if/else\n",
    "\n",
    "```python\n",
    "if a == 13:\n",
    "    c = 11\n",
    "else:\n",
    "    c = 0\n",
    "```\n",
    "Можно заменить на\n",
    "```python\n",
    "c = 11 if a == 13 else 0\n",
    "```"
   ]
  },
  {
   "cell_type": "markdown",
   "metadata": {
    "slideshow": {
     "slide_type": "slide"
    }
   },
   "source": [
    "# Циклы\n",
    "Цикл **while**\n",
    "```python\n",
    "i = 1\n",
    "while i <= 10:\n",
    "    print(i)\n",
    "    i += 1  # Выведет числа от 1 до 10\n",
    "```\n",
    "Цикл **for**\n",
    "```python\n",
    "for i in range(1, 11):\n",
    "    print(i)  # Выведет числа от 1 до 10\n",
    "```\n",
    "_range(start, stop, step) - функция, возвращающая итератор от start до stop с шагом step_\n",
    "\n"
   ]
  },
  {
   "cell_type": "markdown",
   "metadata": {
    "slideshow": {
     "slide_type": "subslide"
    }
   },
   "source": [
    "Оператор **continue** - оператор, который начинает следующую итерацию цикла\n",
    "```python\n",
    "for i in range(1, 11):\n",
    "    if i == 5:\n",
    "        continue\n",
    "    print(i)  # Выведет числа от 1 до 10 за исключением 5\n",
    "```\n",
    "Оператор **break** - оператор, который прерывает цикл\n",
    "```python\n",
    "for i in range(1, 11):\n",
    "    if i == 5:\n",
    "        break\n",
    "    print(i)  # Выведет числа от 1 до 4\n",
    "```\n",
    "Окончание цикла\n",
    "Если цикл завершился без прерывания, то выполняется условие **else**\n",
    "```python\n",
    "for i in range(1, 11):\n",
    "    print(i)\n",
    "else:\n",
    "    print('Цикл завершился корректно')\n",
    "```"
   ]
  },
  {
   "cell_type": "markdown",
   "metadata": {
    "slideshow": {
     "slide_type": "slide"
    }
   },
   "source": [
    "# Числа\n",
    "#### Целочисленные (int)\n",
    "* Операции +, -, *, /\n",
    "* Целая часть и остаток от деления //, %\n",
    "* Модуль числа *abs(a)*\n",
    "* Возведение в степень *a ** b*\n",
    "#### Вещественные (float)\n",
    "* d = 1.6\n",
    "* Округление числа *round(d)  # 2*\n",
    "* Получение целой части *int(d)  # 1*\n",
    "* Ошибки операций с вещественными числами *0.1 + 0.1 + 0.1 + 0.1 + 0.1 + 0.1 + 0.1 + 0.1 + 0.1 + 0.1  # 0.999999*\n",
    "* Перевод целочисленного в вещественное *float(1)  # 1.0*"
   ]
  },
  {
   "cell_type": "markdown",
   "metadata": {
    "slideshow": {
     "slide_type": "subslide"
    }
   },
   "source": [
    "#### Битовые операции\n",
    "* Побитовое или *a | b*\n",
    "* Побитовое и *a & b*\n",
    "* Инверсия битов *~a*\n",
    "* Побитовое исключающее или *x ^ y*\n",
    "* Битовый сдвиг влево *a << c*\n",
    "* Битовый сдвиг вправо *a >> c*\n",
    "\n",
    "#### Комплексные числа\n",
    "* *x = complex(1, 2)*\n",
    "или\n",
    "* *x = 1 + 2j*\n",
    "* Операции +, -, *, /\n",
    "* Мнимая часть *x.imag*\n",
    "* Действительная часть *x.real*"
   ]
  },
  {
   "cell_type": "markdown",
   "metadata": {
    "slideshow": {
     "slide_type": "slide"
    }
   },
   "source": [
    "# Модули math, random\n",
    "Подключение модулей"
   ]
  },
  {
   "cell_type": "code",
   "execution_count": 14,
   "metadata": {},
   "outputs": [],
   "source": [
    "import math\n",
    "import random"
   ]
  },
  {
   "cell_type": "markdown",
   "metadata": {
    "slideshow": {
     "slide_type": "subslide"
    }
   },
   "source": [
    "Модуль math содержит различные математические операции\n",
    "```python\n",
    "# Округление вверх и вниз\n",
    "math.ceil(d)\n",
    "math.floor(d)\n",
    "# Тригонометрические и гиперболические функции\n",
    "math.sin(d)\n",
    "math.cos(d)\n",
    "math.tan(d)\n",
    "math.acos(d)\n",
    "math.asin(d)\n",
    "math.tanh(d)\n",
    "math.sinh(d)\n",
    "# Математические константы\n",
    "math.pi\n",
    "math.e\n",
    "```"
   ]
  },
  {
   "cell_type": "code",
   "execution_count": 18,
   "metadata": {
    "slideshow": {
     "slide_type": "subslide"
    }
   },
   "outputs": [
    {
     "name": "stdout",
     "output_type": "stream",
     "text": [
      "Площадь конуса = 134.0412865531645\n",
      "Гипотенуза = 5.0\n"
     ]
    }
   ],
   "source": [
    "# Объём конуса высотой 8 и радиусом основания 4\n",
    "s = 1 / 3 * math.pi * 4 ** 2 * 8\n",
    "# Гипотенуза для треугольник с катетами 3 и 4\n",
    "h = math.sqrt(3 ** 2 + 4 ** 2)\n",
    "\n",
    "print('Площадь конуса =', s)\n",
    "print('Гипотенуза =', h)"
   ]
  },
  {
   "cell_type": "markdown",
   "metadata": {
    "slideshow": {
     "slide_type": "subslide"
    }
   },
   "source": [
    "Модуль random содержит различные операции по работе со случайными числами и выборками\n",
    "```python\n",
    "# Случайное число от 0 до 1\n",
    "random.random()\n",
    "# Случайное целое число из отрезка [a, b]\n",
    "random.randint(a, b)\n",
    "# Случайное число последовательности\n",
    "random.choice(sequence)\n",
    "# Перемешивание последовательности\n",
    "random.shuffle(sequence)\n",
    "# Инициализация генератора случайных чисел\n",
    "random.seed(c)\n",
    "```"
   ]
  },
  {
   "cell_type": "code",
   "execution_count": 19,
   "metadata": {
    "slideshow": {
     "slide_type": "subslide"
    }
   },
   "outputs": [
    {
     "name": "stdout",
     "output_type": "stream",
     "text": [
      "41, 8, 2, 18, 16, 15, 9, 7, 35, 6, \n",
      "41, 41, 41, 41, 41, 41, 41, 41, 41, 41, "
     ]
    }
   ],
   "source": [
    "random.seed(42)  # Задаём воспроизводимость внутри ячейки\n",
    "for i in range(10):\n",
    "    print(random.randint(1, 43), end=', ')\n",
    "print()\n",
    "\n",
    "for i in range(10):\n",
    "    random.seed(42)  # Задаём воспроизводимость внутри цикла\n",
    "    print(random.randint(1, 43), end=', ')"
   ]
  },
  {
   "cell_type": "markdown",
   "metadata": {
    "slideshow": {
     "slide_type": "slide"
    }
   },
   "source": [
    "# Модуль os\n",
    "Подключение модуля"
   ]
  },
  {
   "cell_type": "code",
   "execution_count": 15,
   "metadata": {},
   "outputs": [],
   "source": [
    "import os"
   ]
  },
  {
   "cell_type": "markdown",
   "metadata": {
    "slideshow": {
     "slide_type": "subslide"
    }
   },
   "source": [
    "Модуль os предоставляет множество функций для работы с операционной системой, причём их поведение, как правило, не зависит от ОС, поэтому программы остаются переносимыми.\n",
    "\n",
    "```python\n",
    "os.environ  # словарь переменных окружения. Изменяемый (можно добавлять и удалять переменные окружения)\n",
    "\n",
    "os.getcwd()  # текущая рабочая директория\n",
    "\n",
    "os.listdir(path=\".\")  # список файлов и директорий в папке\n",
    "\n",
    "os.mkdir(path, mode=0o777, *, dir_fd=None)  # создаёт директорию. OSError, если директория существует\n",
    "os.makedirs(path, mode=0o777, exist_ok=False)  # создаёт директорию, создавая при этом промежуточные директории.\n",
    "\n",
    "os.rmdir(path, *, dir_fd=None)  # удаляет пустую директорию\n",
    "# удаляет директорию, затем пытается удалить родительские директории. Удаляет их рекурсивно, пока они пусты\n",
    "os.removedirs(path)\n",
    "```"
   ]
  },
  {
   "cell_type": "markdown",
   "metadata": {
    "slideshow": {
     "slide_type": "subslide"
    }
   },
   "source": [
    "**os.path** является вложенным модулем в модуль os, и реализует некоторые полезные функции для работы с путями.\n",
    "\n",
    "```python\n",
    "os.path.abspath(path)  # возвращает нормализованный абсолютный путь\n",
    "\n",
    "os.path.basename(path)  # базовое имя пути\n",
    "os.path.dirname(path)  # возвращает имя директории пути path\n",
    "\n",
    "os.path.exists(path)  # возвращает True, если path указывает на существующий путь\n",
    "\n",
    "os.path.isfile(path)  # является ли путь файлом\n",
    "os.path.isdir(path)  # является ли путь директорией\n",
    "\n",
    "os.path.join(path1[, path2[, ...]])  # соединяет пути с учётом особенностей операционной системы.\n",
    "```"
   ]
  },
  {
   "cell_type": "code",
   "execution_count": 26,
   "metadata": {
    "slideshow": {
     "slide_type": "subslide"
    }
   },
   "outputs": [
    {
     "name": "stdout",
     "output_type": "stream",
     "text": [
      "Файлы: ['Lesson1.ipynb', '.ipynb_checkpoints']\n",
      "Абсолютный путь /home/user/Projects/Lessons2/Lesson1.ipynb\n",
      "Директория? False\n"
     ]
    }
   ],
   "source": [
    "# Список файлов в нынешней папке\n",
    "print('Файлы:', os.listdir('./'))\n",
    "# Абсолютный путь до файла\n",
    "filename = './Lesson1.ipynb'\n",
    "print('Абсолютный путь', os.path.abspath(filename))\n",
    "# Проверка, является ли файл директорией\n",
    "print('Директория?', os.path.isdir(filename))"
   ]
  },
  {
   "cell_type": "markdown",
   "metadata": {
    "slideshow": {
     "slide_type": "slide"
    },
    "tags": []
   },
   "source": [
    "# Jupyter notebook\n",
    "\n",
    "* Выполнение кода по частям (блоками)\n",
    "* Возможность редактирования кода во время выполнения\n",
    "* Вывод результатов внутри ноутбука\n",
    "* Возможность добавлять описания с помощью языка разметки Markdown\n",
    "* Работа на сервере из любого места"
   ]
  },
  {
   "cell_type": "markdown",
   "metadata": {
    "slideshow": {
     "slide_type": "slide"
    }
   },
   "source": [
    "### Работа в Jupyter notebook\n",
    "#### Установка\n",
    "* На сайте [anaconda.com](http://anaconda.com) скачайте пакет библиотек для Python Anaconda (содержит самые популярные библиотеки) для вашей системы\n",
    "* Установите пакет\n",
    "#### Или\n",
    "* pip install notebook\n",
    "\n",
    "#### Запуск\n",
    "* В командной строке/териминале/anaconda prompt введите команду **jupyter notebook** или запустите приложение Jupyter Notebook\n",
    "* Jupyter Notebook будет доступен в браузере по адресу [localhost:8888](http://localhost:8888). Если порт 8888 занят, то будет автоматически выбран следующий свободный (8889, 8890 и т.д.)\n",
    "* Если есть необходимость ввести токкен для входа, то его можно узнать в терминале с запущенным jupyter notebook"
   ]
  },
  {
   "cell_type": "markdown",
   "metadata": {
    "slideshow": {
     "slide_type": "subslide"
    }
   },
   "source": [
    "### Работа в Jupyter notebook\n",
    "#### Особенности\n",
    "* Каждый логический блок должен находиться внутри одной ячейки\n",
    "* Переменные хранят своё состояние до перезапуска ядра ноутбука (удаление, измение содержимого ячеек или перезагрузка страницы не влияют на переменные)\n",
    "* Большие логические блоки кода лучше описывать с помощью ячеек в режиме Markdown\n",
    "* Результат выполнения последней строки кода в ячейке выводится в Out\n"
   ]
  },
  {
   "cell_type": "markdown",
   "metadata": {
    "slideshow": {
     "slide_type": "slide"
    }
   },
   "source": [
    "# Задания:\n",
    "1. Сгенерировать случайное трехзначное число. Вычислить сумму его цифр.\n",
    "2. Сгенерировать случайное число. Вычислить сумму его цифр.\n",
    "3. Задаётся радиус сферы, найти площадь её поверхности и объём.\n",
    "4. Задаётся год. Определить, является ли он високосным.\n",
    "5. Определить все числа из диапазона 1, N, являющиеся простыми.\n",
    "6. Пользователь делает вклад в размере X рублей сроком на Y лет под 10% годовых (каждый год размер его вклада увеличивается на 10%. Эти деньги прибавляются к сумме вклада, и на них в следующем году тоже будут проценты). Вычислить сумму, которая будет на счету пользователя.\n",
    "7. Вывести все файлы, находящиеся в папке и её подпапках с помощью их абсолютных имён. Имя папки задаётся абсолютным или относительным именем. (можно использовать os.walk())"
   ]
  },
  {
   "metadata": {
    "ExecuteTime": {
     "end_time": "2025-09-13T06:31:03.696284Z",
     "start_time": "2025-09-13T06:31:03.690658Z"
    }
   },
   "cell_type": "code",
   "source": [
    "# 1\n",
    "import random\n",
    "num = random.randint(100, 999)\n",
    "sum_digits = sum(int(d) for d in str(num))\n",
    "print(num, sum_digits)"
   ],
   "outputs": [
    {
     "name": "stdout",
     "output_type": "stream",
     "text": [
      "732 12\n"
     ]
    }
   ],
   "execution_count": 18
  },
  {
   "metadata": {
    "ExecuteTime": {
     "end_time": "2025-09-11T19:49:00.947112Z",
     "start_time": "2025-09-11T19:49:00.942584Z"
    }
   },
   "cell_type": "code",
   "source": [
    "# 2\n",
    "import random\n",
    "num = random.randint(10000, 999999)\n",
    "sum_digits = sum(int(d) for d in str(num))\n",
    "print(num, sum_digits)"
   ],
   "outputs": [
    {
     "name": "stdout",
     "output_type": "stream",
     "text": [
      "797592 39\n"
     ]
    }
   ],
   "execution_count": 2
  },
  {
   "metadata": {
    "ExecuteTime": {
     "end_time": "2025-09-11T19:52:41.939148Z",
     "start_time": "2025-09-11T19:52:37.554381Z"
    }
   },
   "cell_type": "code",
   "source": [
    "# 3\n",
    "import math\n",
    "radius = float(input())\n",
    "surface_area = 4 * math.pi * radius**2\n",
    "volume = (4/3) * math.pi * radius**3\n",
    "print(surface_area, volume)"
   ],
   "outputs": [
    {
     "name": "stdout",
     "output_type": "stream",
     "text": [
      "452.3893421169302 904.7786842338603\n"
     ]
    }
   ],
   "execution_count": 6
  },
  {
   "metadata": {
    "ExecuteTime": {
     "end_time": "2025-09-11T19:53:14.039456Z",
     "start_time": "2025-09-11T19:53:07.022800Z"
    }
   },
   "cell_type": "code",
   "source": [
    "# 4\n",
    "year = int(input())\n",
    "is_leap = (year % 4 == 0 and year % 100 != 0) or (year % 400 == 0)\n",
    "print('yes' if is_leap else 'no')"
   ],
   "outputs": [
    {
     "name": "stdout",
     "output_type": "stream",
     "text": [
      "no\n"
     ]
    }
   ],
   "execution_count": 7
  },
  {
   "metadata": {
    "ExecuteTime": {
     "end_time": "2025-09-13T06:05:48.580693Z",
     "start_time": "2025-09-13T06:05:44.993654Z"
    }
   },
   "cell_type": "code",
   "source": [
    "# 5\n",
    "def is_prime(n):\n",
    "    return n > 1 and not any(n % i == 0 for i in range(2, int(n**0.5) + 1))\n",
    "N = int(input())\n",
    "primes = [num for num in range(1, N+1) if is_prime(num)]\n",
    "print(primes)"
   ],
   "outputs": [
    {
     "name": "stdout",
     "output_type": "stream",
     "text": [
      "[2, 3, 5, 7]\n"
     ]
    }
   ],
   "execution_count": 2
  },
  {
   "metadata": {
    "ExecuteTime": {
     "end_time": "2025-09-11T19:50:32.973905Z",
     "start_time": "2025-09-11T19:50:32.970173Z"
    }
   },
   "cell_type": "code",
   "outputs": [],
   "execution_count": 4,
   "source": [
    "# 6\n",
    "X = float(input())\n",
    "Y = int(input())\n",
    "total = X * (1.10 ** Y)\n",
    "print(total)"
   ]
  },
  {
   "metadata": {
    "ExecuteTime": {
     "end_time": "2025-09-11T19:56:23.592655Z",
     "start_time": "2025-09-11T19:56:05.621080Z"
    }
   },
   "cell_type": "code",
   "source": [
    "# 7\n",
    "import os\n",
    "folder = input()\n",
    "for root, dirs, files in os.walk(folder):\n",
    "    for file in files:\n",
    "        print(os.path.abspath(os.path.join(root, file)))"
   ],
   "outputs": [
    {
     "name": "stdout",
     "output_type": "stream",
     "text": [
      "/home/ashesha/Sources/project-activities/project-activities.iml\n",
      "/home/ashesha/Sources/project-activities/.git/HEAD\n",
      "/home/ashesha/Sources/project-activities/.git/COMMIT_EDITMSG\n",
      "/home/ashesha/Sources/project-activities/.git/index\n",
      "/home/ashesha/Sources/project-activities/.git/description\n",
      "/home/ashesha/Sources/project-activities/.git/config\n",
      "/home/ashesha/Sources/project-activities/.git/logs/HEAD\n",
      "/home/ashesha/Sources/project-activities/.git/logs/refs/heads/master\n",
      "/home/ashesha/Sources/project-activities/.git/logs/refs/remotes/origin/master\n",
      "/home/ashesha/Sources/project-activities/.git/hooks/pre-rebase.sample\n",
      "/home/ashesha/Sources/project-activities/.git/hooks/update.sample\n",
      "/home/ashesha/Sources/project-activities/.git/hooks/applypatch-msg.sample\n",
      "/home/ashesha/Sources/project-activities/.git/hooks/commit-msg.sample\n",
      "/home/ashesha/Sources/project-activities/.git/hooks/post-update.sample\n",
      "/home/ashesha/Sources/project-activities/.git/hooks/pre-commit.sample\n",
      "/home/ashesha/Sources/project-activities/.git/hooks/pre-merge-commit.sample\n",
      "/home/ashesha/Sources/project-activities/.git/hooks/prepare-commit-msg.sample\n",
      "/home/ashesha/Sources/project-activities/.git/hooks/fsmonitor-watchman.sample\n",
      "/home/ashesha/Sources/project-activities/.git/hooks/pre-receive.sample\n",
      "/home/ashesha/Sources/project-activities/.git/hooks/push-to-checkout.sample\n",
      "/home/ashesha/Sources/project-activities/.git/hooks/pre-applypatch.sample\n",
      "/home/ashesha/Sources/project-activities/.git/hooks/pre-push.sample\n",
      "/home/ashesha/Sources/project-activities/.git/hooks/sendemail-validate.sample\n",
      "/home/ashesha/Sources/project-activities/.git/objects/fe/00cf037592bf26cb80ad5a8ca954dd8705901e\n",
      "/home/ashesha/Sources/project-activities/.git/objects/f7/89ae29a6032672730ccb19c6b6dba35d4919c4\n",
      "/home/ashesha/Sources/project-activities/.git/objects/39/aac6c06dc43f91dbf8e00c6175631330bd595a\n",
      "/home/ashesha/Sources/project-activities/.git/objects/da/c2f3436933cfdb05294c497eb588c8dedbe325\n",
      "/home/ashesha/Sources/project-activities/.git/objects/20/650cec3f60d2d040a1b06ce768e757e8e0d0ac\n",
      "/home/ashesha/Sources/project-activities/.git/objects/30/557cd295c75f6426b360cdeec4b7856c75d396\n",
      "/home/ashesha/Sources/project-activities/.git/objects/7c/585fe4e46bacec60a4f7bfcd3d778a38b5ac6d\n",
      "/home/ashesha/Sources/project-activities/.git/objects/45/d4fe162bfba72de41ce07a81c7b042b4a03cb3\n",
      "/home/ashesha/Sources/project-activities/.git/objects/28/f94604cdaa21b0c7fe52028ad39d3c48033a66\n",
      "/home/ashesha/Sources/project-activities/.git/objects/6f/bdd079be26c6a25bc5fc090ff13d4d7777eebb\n",
      "/home/ashesha/Sources/project-activities/.git/objects/b7/859d4aed4054f9322c6cf10e686c87cad77eb5\n",
      "/home/ashesha/Sources/project-activities/.git/objects/3f/5536b63172d73a864e77efc963a7dce813bd9d\n",
      "/home/ashesha/Sources/project-activities/.git/objects/8e/22a7088172da377ba21c002b1806e2611d8c50\n",
      "/home/ashesha/Sources/project-activities/.git/objects/f4/14736f758c466c18968dc1c783797739be4236\n",
      "/home/ashesha/Sources/project-activities/.git/objects/9a/5cfcef63aeb6c73691f546497af36a69541a4e\n",
      "/home/ashesha/Sources/project-activities/.git/objects/9a/b6a0e5b4d2d8e1617d7cf00dc8d05d189bfe68\n",
      "/home/ashesha/Sources/project-activities/.git/objects/f2/a1e556cf221068b3f9cb2592c0bcf510580fb7\n",
      "/home/ashesha/Sources/project-activities/.git/objects/50/9c63873a6dabf6881feedb748c89b72051b6b0\n",
      "/home/ashesha/Sources/project-activities/.git/objects/50/1ae1542b2394b59cf7a5efcd73189bcd10f4db\n",
      "/home/ashesha/Sources/project-activities/.git/objects/c6/c59864f9daac5e78134c53683360c1b322843d\n",
      "/home/ashesha/Sources/project-activities/.git/objects/54/237eac294de7d4e56b3711eb5f2741861e2b5e\n",
      "/home/ashesha/Sources/project-activities/.git/objects/98/8431740ec9aba3aa967913d5851c3d5298d8dd\n",
      "/home/ashesha/Sources/project-activities/.git/objects/64/72e769e6079655a2263ebb5690dcefe62f13d4\n",
      "/home/ashesha/Sources/project-activities/.git/objects/83/7274a50f4fdf8cfafe010326731c90d8258b13\n",
      "/home/ashesha/Sources/project-activities/.git/objects/94/a25f7f4cb416c083d265558da75d457237d671\n",
      "/home/ashesha/Sources/project-activities/.git/objects/6b/f9a0c62d8f136943679f6a46267be256c7dbe6\n",
      "/home/ashesha/Sources/project-activities/.git/objects/fd/57f8ecbba21e86e2b0a5de5163112ee1818adb\n",
      "/home/ashesha/Sources/project-activities/.git/objects/bf/e951958e468a0eac12c4deb94abf25260c617b\n",
      "/home/ashesha/Sources/project-activities/.git/objects/10/daf21aded0c0237f1577167de99873291f74a4\n",
      "/home/ashesha/Sources/project-activities/.git/objects/cb/440a0e9f52ffe5c15284a0065a94d2b5e3a05f\n",
      "/home/ashesha/Sources/project-activities/.git/objects/63/9900d13c6182e452e33a3bd638e70a0146c785\n",
      "/home/ashesha/Sources/project-activities/.git/objects/04/2e036ea606da0819b43e9ad5ae8a0736a3e56f\n",
      "/home/ashesha/Sources/project-activities/.git/objects/87/16c75dcf44a4737ad9aa00d68ea8213f95bcfe\n",
      "/home/ashesha/Sources/project-activities/.git/objects/47/cb1ee9acad5b11f05602505ddce13518e6189b\n",
      "/home/ashesha/Sources/project-activities/.git/objects/a4/a2d1d87755fa30f6bab52dd29f7222b5f27838\n",
      "/home/ashesha/Sources/project-activities/.git/objects/b5/8b603fea78041071d125a30db58d79b3d49217\n",
      "/home/ashesha/Sources/project-activities/.git/objects/75/630febcdbb45a34e15760dec5475af829fa3ae\n",
      "/home/ashesha/Sources/project-activities/.git/objects/3a/9eb300bbf5638b15db03b675159019f76d21fa\n",
      "/home/ashesha/Sources/project-activities/.git/info/exclude\n",
      "/home/ashesha/Sources/project-activities/.git/refs/heads/master\n",
      "/home/ashesha/Sources/project-activities/.git/refs/remotes/origin/master\n",
      "/home/ashesha/Sources/project-activities/task-1/output_image.jpg\n",
      "/home/ashesha/Sources/project-activities/task-1/image.jpg\n",
      "/home/ashesha/Sources/project-activities/task-1/main.py\n",
      "/home/ashesha/Sources/project-activities/.idea/misc.xml\n",
      "/home/ashesha/Sources/project-activities/.idea/modules.xml\n",
      "/home/ashesha/Sources/project-activities/.idea/vcs.xml\n",
      "/home/ashesha/Sources/project-activities/.idea/.gitignore\n",
      "/home/ashesha/Sources/project-activities/.idea/workspace.xml\n"
     ]
    }
   ],
   "execution_count": 10
  },
  {
   "metadata": {
    "slideshow": {
     "slide_type": "slide"
    }
   },
   "cell_type": "markdown",
   "source": [
    "# Лабораторные работы\n",
    "\n",
    "\n",
    "**Важно помнить: весь код оформляется в соответствии с PEP8.**"
   ]
  },
  {
   "metadata": {
    "slideshow": {
     "slide_type": "subslide"
    }
   },
   "cell_type": "markdown",
   "source": [
    "### Лабораторная работа 1.1. Пузырьковая сортировка.\n",
    "\n",
    "Реализовать скрипт bubble_sort.py\n",
    "\n",
    "Входные параметры скрипта: целое число = длина списка.\n",
    "Выходные значения: выводит отсортированный список на экран\n",
    "\n",
    "Что должен делать скрипт:\n",
    "1) Распарсить входные параметры скрипта с помощью [argparse](https://docs.python.org/3/library/argparse.html)\n",
    "2) Создать список случайных значений от 0 до 1 длины N (подаётся в качестве входного значения скрипта, получается в пункте 1)\n",
    "3) Реализовать пузырьковую сортировку с помощью операторов for и if. Никаких sorted!\n",
    "4) Вывести значения на экран\n"
   ]
  },
  {
   "metadata": {
    "ExecuteTime": {
     "end_time": "2025-09-13T06:30:03.078075Z",
     "start_time": "2025-09-13T06:30:03.073673Z"
    }
   },
   "cell_type": "code",
   "source": [
    "# Код-решение находится в labs/task_1/lab_1.py\n",
    "# ниже эмуляция запуска из ноутбука\n",
    "import sys\n",
    "from labs.task_1.lab_1 import main\n",
    "\n",
    "sys.argv = ['lab_1.py', '-n', '15']\n",
    "main()"
   ],
   "outputs": [
    {
     "name": "stdout",
     "output_type": "stream",
     "text": [
      "77 49 44 41 32 6 34 37 95 83 83 32 9 8 24\n",
      "6 8 9 24 32 32 34 37 41 44 49 77 83 83 95\n"
     ]
    }
   ],
   "execution_count": 14
  },
  {
   "metadata": {
    "slideshow": {
     "slide_type": "subslide"
    }
   },
   "cell_type": "markdown",
   "source": [
    "### Лабораторная работа 1.2. Треугольник Паскаля\n",
    "\n",
    "Реализовать скрипт pascal_triangle.py\n",
    "\n",
    "Входные параметры скрипта: высота треугольника = количество строк в нём\n",
    "Выходные значения: выводит треугольник Паскаля на экран\n",
    "\n",
    "Что должен делать скрипт:\n",
    "1) Распарсить входные параметры скрипта с помощью [argparse](https://docs.python.org/3/library/argparse.html)\n",
    "2) Построить [треугольник Паскаля](https://ru.wikipedia.org/wiki/%D0%A2%D1%80%D0%B5%D1%83%D0%B3%D0%BE%D0%BB%D1%8C%D0%BD%D0%B8%D0%BA_%D0%9F%D0%B0%D1%81%D0%BA%D0%B0%D0%BB%D1%8F) из N строк (подаётся в качестве входного значения скрипта, получается в пункте 1)\n",
    "3) Вывести треугольник на экран. Обратите внимание, что треугольник должен выводиться в формате равнобедренного треугольника. Для этого в начале каждой строки необходимо добавить нужное число пробелов.\n"
   ]
  },
  {
   "metadata": {
    "ExecuteTime": {
     "end_time": "2025-09-13T06:30:55.784128Z",
     "start_time": "2025-09-13T06:30:55.778353Z"
    }
   },
   "cell_type": "code",
   "source": [
    "# Код-решение находится в labs/task_1/lab_2.py\n",
    "# ниже эмуляция запуска из ноутбука\n",
    "import sys\n",
    "from labs.task_1.lab_2 import main\n",
    "\n",
    "sys.argv = ['lab_2.py', '-n', '5']\n",
    "main()"
   ],
   "outputs": [
    {
     "name": "stdout",
     "output_type": "stream",
     "text": [
      "    1    \n",
      "   1 1   \n",
      "  1 2 1  \n",
      " 1 3 3 1 \n",
      "1 4 6 4 1\n"
     ]
    }
   ],
   "execution_count": 17
  }
 ],
 "metadata": {
  "celltoolbar": "Slideshow",
  "kernelspec": {
   "display_name": "Python 3 (ipykernel)",
   "language": "python",
   "name": "python3"
  },
  "language_info": {
   "codemirror_mode": {
    "name": "ipython",
    "version": 3
   },
   "file_extension": ".py",
   "mimetype": "text/x-python",
   "name": "python",
   "nbconvert_exporter": "python",
   "pygments_lexer": "ipython3",
   "version": "3.12.4"
  }
 },
 "nbformat": 4,
 "nbformat_minor": 4
}
